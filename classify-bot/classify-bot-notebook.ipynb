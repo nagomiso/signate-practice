{
 "cells": [
  {
   "cell_type": "code",
   "execution_count": 1,
   "metadata": {},
   "outputs": [],
   "source": [
    "import warnings\n",
    "warnings.filterwarnings('ignore')\n",
    "\n",
    "import pandas as pd\n",
    "import numpy as np"
   ]
  },
  {
   "cell_type": "code",
   "execution_count": 2,
   "metadata": {},
   "outputs": [],
   "source": [
    "np.random.seed(42)"
   ]
  },
  {
   "cell_type": "code",
   "execution_count": 3,
   "metadata": {},
   "outputs": [],
   "source": [
    "test_df = pd.read_table('data/test.tsv')\n",
    "train_df = pd.read_table('data/train.tsv')"
   ]
  },
  {
   "cell_type": "code",
   "execution_count": 4,
   "metadata": {},
   "outputs": [],
   "source": [
    "binary_valiable = {\n",
    "    'id',\n",
    "    'bot',\n",
    "    'default_profile',\n",
    "    'default_profile_image',\n",
    "    'geo_enabled',\n",
    "}"
   ]
  },
  {
   "cell_type": "code",
   "execution_count": 5,
   "metadata": {},
   "outputs": [],
   "source": [
    "scale_stats = {\n",
    "    col: {\n",
    "        'mean': train_df[col].mean(),\n",
    "        'std': train_df[col].std()\n",
    "    }\n",
    "    for col in train_df.columns\n",
    "    if col not in binary_valiable\n",
    "} "
   ]
  },
  {
   "cell_type": "code",
   "execution_count": 6,
   "metadata": {},
   "outputs": [],
   "source": [
    "std_train_df = train_df.copy()\n",
    "for col, stats in scale_stats.items():\n",
    "    std_train_df[col] = (std_train_df[col] - stats['mean']) / stats['std']"
   ]
  },
  {
   "cell_type": "code",
   "execution_count": 7,
   "metadata": {},
   "outputs": [],
   "source": [
    "train_y = std_train_df.bot.values\n",
    "train_X = std_train_df[\n",
    "    [\n",
    "        'statuses_count',\n",
    "        'default_profile',\n",
    "        'default_profile_image',\n",
    "        'friends_count',\n",
    "        'followers_count',\n",
    "        'favourites_count',\n",
    "        'geo_enabled',\n",
    "        'listed_count',\n",
    "        'account_age_hours',\n",
    "        'diversity',\n",
    "        'mean_mins_between_tweets',\n",
    "        'mean_tweet_length',\n",
    "        'mean_retweets',\n",
    "        'reply_rate'\n",
    "    ]\n",
    "].values"
   ]
  },
  {
   "cell_type": "code",
   "execution_count": 8,
   "metadata": {},
   "outputs": [],
   "source": [
    "from lightgbm import LGBMClassifier\n",
    "from sklearn.model_selection import StratifiedKFold\n",
    "from sklearn.model_selection import cross_validate\n",
    "from sklearn.model_selection import cross_val_score"
   ]
  },
  {
   "cell_type": "code",
   "execution_count": 9,
   "metadata": {},
   "outputs": [],
   "source": [
    "warnings.filterwarnings('ignore')\n",
    "from skopt import gp_minimize\n",
    "from skopt.space import Integer\n",
    "from skopt.space import Real\n",
    "from skopt.space import Space"
   ]
  },
  {
   "cell_type": "code",
   "execution_count": 10,
   "metadata": {},
   "outputs": [],
   "source": [
    "clf = LGBMClassifier(n_jobs=-1)\n",
    "skf = StratifiedKFold(n_splits=5, shuffle=True)\n",
    "def objective(params):\n",
    "    n_estimators, learning_rate, num_leaves, \\\n",
    "    colsample_bytree, subsample, max_depth, reg_alpha, \\\n",
    "    reg_lambda, min_split_gain, min_child_weight = params\n",
    "    \n",
    "    clf.set_params(\n",
    "        n_estimators=n_estimators,\n",
    "        learning_rate=learning_rate,\n",
    "        num_leaves=num_leaves,\n",
    "        colsample_bytree=colsample_bytree,\n",
    "        subsample=subsample,\n",
    "        max_depth=max_depth,\n",
    "        reg_alpha=reg_alpha,\n",
    "        reg_lambda=reg_lambda,\n",
    "        min_split_gain=min_split_gain,\n",
    "        min_child_weight=min_child_weight,\n",
    "    )\n",
    "    return -np.mean(\n",
    "        cross_val_score(\n",
    "            estimator=clf,\n",
    "            X=train_X,\n",
    "            y=train_y,\n",
    "            cv=skf,\n",
    "            scoring='f1'\n",
    "        ))"
   ]
  },
  {
   "cell_type": "code",
   "execution_count": 11,
   "metadata": {},
   "outputs": [],
   "source": [
    "space = Space(\n",
    "    [\n",
    "        Integer(low=100, high=5000),\n",
    "        Real(low=10**-5, high=10**5, prior='log-uniform'),\n",
    "        Integer(low=10, high=500),\n",
    "        Real(low=10**-5, high=10**0, prior='log-uniform'),\n",
    "        Real(low=10**-5, high=10**0, prior='log-uniform'),\n",
    "        Integer(low=3, high=50),\n",
    "        Real(low=10**-5, high=10**1, prior='log-uniform'),\n",
    "        Real(low=10**-5, high=10**1, prior='log-uniform'),\n",
    "        Real(low=10**-5, high=10**1, prior='log-uniform'),\n",
    "        Real(low=10**-5, high=10**3, prior='log-uniform'),\n",
    "    ]\n",
    ")\n",
    "\n",
    "x0 = [\n",
    "    10000, 0.02, 34, 0.94, 0.87, 8,\n",
    "    0.0412, 0.073, 0.02, 39.0\n",
    "]"
   ]
  },
  {
   "cell_type": "code",
   "execution_count": 12,
   "metadata": {},
   "outputs": [
    {
     "name": "stdout",
     "output_type": "stream",
     "text": [
      "[5000, 0.027804822136363046, 500, 1.0, 1e-05, 3, 0.000134362299164214, 1.4464428056955005, 1e-05, 0.36777894364189095]\n"
     ]
    }
   ],
   "source": [
    "warnings.filterwarnings('ignore')\n",
    "local_opt_params = gp_minimize(\n",
    "    func=objective, dimensions=space, n_calls=100, n_jobs=-1)\n",
    "print(local_opt_params.x)"
   ]
  },
  {
   "cell_type": "code",
   "execution_count": 13,
   "metadata": {},
   "outputs": [
    {
     "data": {
      "text/plain": [
       "-0.7428035533026927"
      ]
     },
     "execution_count": 13,
     "metadata": {},
     "output_type": "execute_result"
    }
   ],
   "source": [
    "local_opt_params.fun"
   ]
  },
  {
   "cell_type": "code",
   "execution_count": 16,
   "metadata": {},
   "outputs": [
    {
     "data": {
      "text/plain": [
       "-0.9436995802038288"
      ]
     },
     "execution_count": 16,
     "metadata": {},
     "output_type": "execute_result"
    }
   ],
   "source": [
    "local_opt_params.fun"
   ]
  },
  {
   "cell_type": "code",
   "execution_count": 10,
   "metadata": {},
   "outputs": [],
   "source": [
    "clf = LGBMClassifier(\n",
    "    n_estimators=10000,\n",
    "    learning_rate=0.02,\n",
    "    num_leaves=34,\n",
    "    colsample_bytree=0.9497036,\n",
    "    subsample=0.8715623,\n",
    "    max_depth=8,\n",
    "    reg_alpha=0.041545473,\n",
    "    reg_lambda=0.0735294,\n",
    "    min_split_gain=0.0222415,\n",
    "    min_child_weight=39.3259775,\n",
    "    silent=-1,\n",
    "    verbose=-1,\n",
    "    random_state=1234,\n",
    ")"
   ]
  },
  {
   "cell_type": "code",
   "execution_count": 14,
   "metadata": {},
   "outputs": [
    {
     "data": {
      "text/plain": [
       "LGBMClassifier(boosting_type='gbdt', class_weight=None, colsample_bytree=1.0,\n",
       "        learning_rate=0.027804822136363046, max_depth=3,\n",
       "        min_child_samples=20, min_child_weight=0.36777894364189095,\n",
       "        min_split_gain=1e-05, n_estimators=5000, n_jobs=-1, num_leaves=500,\n",
       "        objective=None, random_state=None, reg_alpha=0.000134362299164214,\n",
       "        reg_lambda=1.4464428056955005, silent=True, subsample=1e-05,\n",
       "        subsample_for_bin=200000, subsample_freq=0)"
      ]
     },
     "execution_count": 14,
     "metadata": {},
     "output_type": "execute_result"
    }
   ],
   "source": [
    "clf.set_params(\n",
    "    n_estimators=5000,\n",
    "    learning_rate=0.027804822136363046,\n",
    "    num_leaves=500,\n",
    "    colsample_bytree=1.0,\n",
    "    subsample=1e-05,\n",
    "    max_depth=3,\n",
    "    reg_alpha=0.000134362299164214,\n",
    "    reg_lambda=1.4464428056955005,\n",
    "    min_split_gain=1e-05,\n",
    "    min_child_weight=0.36777894364189095,\n",
    ")"
   ]
  },
  {
   "cell_type": "code",
   "execution_count": 15,
   "metadata": {},
   "outputs": [
    {
     "data": {
      "text/plain": [
       "{'fit_time': array([2.23458743, 1.7927947 , 1.91203189, 1.94395232, 1.84266639]),\n",
       " 'score_time': array([0.10409212, 0.11355686, 0.10776258, 0.12798905, 0.10982537]),\n",
       " 'test_p': array([0.85      , 0.725     , 0.8       , 0.86666667, 0.825     ]),\n",
       " 'train_p': array([0.99487179, 1.        , 0.99487179, 1.        , 0.99489796]),\n",
       " 'test_r': array([0.69387755, 0.59183673, 0.57142857, 0.54166667, 0.6875    ]),\n",
       " 'train_r': array([1., 1., 1., 1., 1.]),\n",
       " 'test_f': array([0.76404494, 0.65168539, 0.66666667, 0.66666667, 0.75      ]),\n",
       " 'train_f': array([0.99742931, 1.        , 0.99742931, 1.        , 0.99744246])}"
      ]
     },
     "execution_count": 15,
     "metadata": {},
     "output_type": "execute_result"
    }
   ],
   "source": [
    "cv_metrics = {'p': 'precision', 'r': 'recall', 'f': 'f1'}\n",
    "cross_validate(X=train_X, y=train_y, estimator=clf, scoring=cv_metrics, cv=skf)"
   ]
  },
  {
   "cell_type": "code",
   "execution_count": 16,
   "metadata": {},
   "outputs": [],
   "source": [
    "std_test_df = test_df.copy()"
   ]
  },
  {
   "cell_type": "code",
   "execution_count": 17,
   "metadata": {},
   "outputs": [],
   "source": [
    "for col, stats in scale_stats.items():\n",
    "    std_test_df[col] = (std_test_df[col] - stats['mean']) / stats['std']"
   ]
  },
  {
   "cell_type": "code",
   "execution_count": 18,
   "metadata": {},
   "outputs": [],
   "source": [
    "estimator = clf.fit(X=train_X, y=train_y)\n",
    "test_X = std_test_df[\n",
    "    [\n",
    "        'statuses_count',\n",
    "        'default_profile',\n",
    "        'default_profile_image',\n",
    "        'friends_count',\n",
    "        'followers_count',\n",
    "        'favourites_count',\n",
    "        'geo_enabled',\n",
    "        'listed_count',\n",
    "        'account_age_hours',\n",
    "        'diversity',\n",
    "        'mean_mins_between_tweets',\n",
    "        'mean_tweet_length',\n",
    "        'mean_retweets',\n",
    "        'reply_rate'\n",
    "    ]\n",
    "].values"
   ]
  },
  {
   "cell_type": "code",
   "execution_count": 19,
   "metadata": {},
   "outputs": [],
   "source": [
    "predict_y = estimator.predict(X=test_X)"
   ]
  },
  {
   "cell_type": "code",
   "execution_count": 20,
   "metadata": {},
   "outputs": [],
   "source": [
    "result = pd.concat(\n",
    "    [test_df.id, pd.Series(predict_y).rename('predict')],\n",
    "    axis=1\n",
    ")"
   ]
  },
  {
   "cell_type": "code",
   "execution_count": 21,
   "metadata": {},
   "outputs": [],
   "source": [
    "result.to_csv('data/submit.csv', index=False, header=False)"
   ]
  },
  {
   "cell_type": "code",
   "execution_count": null,
   "metadata": {},
   "outputs": [],
   "source": []
  }
 ],
 "metadata": {
  "kernelspec": {
   "display_name": "Python 3",
   "language": "python",
   "name": "python3"
  },
  "language_info": {
   "codemirror_mode": {
    "name": "ipython",
    "version": 3
   },
   "file_extension": ".py",
   "mimetype": "text/x-python",
   "name": "python",
   "nbconvert_exporter": "python",
   "pygments_lexer": "ipython3",
   "version": "3.6.5"
  }
 },
 "nbformat": 4,
 "nbformat_minor": 2
}
