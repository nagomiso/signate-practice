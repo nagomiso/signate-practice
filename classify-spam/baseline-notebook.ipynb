{
 "cells": [
  {
   "cell_type": "code",
   "execution_count": 2,
   "metadata": {},
   "outputs": [
    {
     "name": "stderr",
     "output_type": "stream",
     "text": [
      "/usr/lib/python3.6/importlib/_bootstrap.py:219: RuntimeWarning: numpy.dtype size changed, may indicate binary incompatibility. Expected 96, got 88\n",
      "  return f(*args, **kwds)\n",
      "/usr/lib/python3.6/importlib/_bootstrap.py:219: RuntimeWarning: numpy.dtype size changed, may indicate binary incompatibility. Expected 96, got 88\n",
      "  return f(*args, **kwds)\n"
     ]
    }
   ],
   "source": [
    "from pathlib import Path\n",
    "import re\n",
    "\n",
    "import numpy as np\n",
    "import pandas as pd\n",
    "\n",
    "subject_pattern = re.compile(r'^Subject: ')\n",
    "number_pattern = re.compile(r'[+-]?(?:\\d+\\.?\\d*|\\.\\d+)')"
   ]
  },
  {
   "cell_type": "code",
   "execution_count": 3,
   "metadata": {},
   "outputs": [],
   "source": [
    "np.random.seed(42)"
   ]
  },
  {
   "cell_type": "code",
   "execution_count": 4,
   "metadata": {},
   "outputs": [],
   "source": [
    "def replace_number_to_symbol(string):\n",
    "    return number_pattern.sub('__NUMBER__', string)"
   ]
  },
  {
   "cell_type": "code",
   "execution_count": 5,
   "metadata": {},
   "outputs": [],
   "source": [
    "def print_score(cv_result):\n",
    "    print('fit time:  ', cv_result['fit_time'])\n",
    "    print('recall:    ', cv_result['test_r'], np.mean(cv_result['test_r']))\n",
    "    print('precision: ', cv_result['test_p'], np.mean(cv_result['test_p']))\n",
    "    print('f1:        ', cv_result['test_f'], np.mean(cv_result['test_f']))"
   ]
  },
  {
   "cell_type": "code",
   "execution_count": 6,
   "metadata": {},
   "outputs": [],
   "source": [
    "train_master = pd.read_table('train_master.tsv')"
   ]
  },
  {
   "cell_type": "code",
   "execution_count": 7,
   "metadata": {},
   "outputs": [],
   "source": [
    "mails = []\n",
    "for path in sorted(Path('.').glob('./train2/train_*.txt')):\n",
    "    with open(path, 'r') as f:\n",
    "        subject = subject_pattern.sub(\n",
    "            '', f.readline().strip()),\n",
    "        body = f.read()\n",
    "    mails.append(\n",
    "        {\n",
    "            'file_name': path.name,\n",
    "            'subject': subject[0],\n",
    "            'body': body\n",
    "        }\n",
    "    )"
   ]
  },
  {
   "cell_type": "code",
   "execution_count": 8,
   "metadata": {},
   "outputs": [],
   "source": [
    "train_datum = pd.merge(\n",
    "    train_master,\n",
    "    pd.DataFrame.from_dict(mails),\n",
    "    on='file_name',\n",
    "    how='left'\n",
    ")"
   ]
  },
  {
   "cell_type": "code",
   "execution_count": 9,
   "metadata": {},
   "outputs": [],
   "source": [
    "from sklearn.feature_extraction.text import CountVectorizer\n",
    "from scipy.sparse import hstack"
   ]
  },
  {
   "cell_type": "code",
   "execution_count": 10,
   "metadata": {},
   "outputs": [],
   "source": [
    "body_vec = CountVectorizer(\n",
    "    stop_words='english',\n",
    "    preprocessor=replace_number_to_symbol,\n",
    ")\n",
    "\n",
    "subject_vec = CountVectorizer(\n",
    "    stop_words='english',\n",
    "    preprocessor=replace_number_to_symbol\n",
    ")"
   ]
  },
  {
   "cell_type": "code",
   "execution_count": 11,
   "metadata": {},
   "outputs": [],
   "source": [
    "from sklearn.model_selection import StratifiedKFold, cross_validate"
   ]
  },
  {
   "cell_type": "code",
   "execution_count": 12,
   "metadata": {},
   "outputs": [],
   "source": [
    "body_features = body_vec.fit_transform(train_datum.body.values)\n",
    "subject_features = subject_vec.fit_transform(train_datum.subject.values)\n",
    "\n",
    "train_X = hstack([body_features, subject_features], 'csr')\n",
    "train_y = train_datum.label.values"
   ]
  },
  {
   "cell_type": "code",
   "execution_count": 13,
   "metadata": {},
   "outputs": [],
   "source": [
    "skf = StratifiedKFold(n_splits=5, shuffle=True)\n",
    "cv_metrics = {'p': 'precision', 'r': 'recall', 'f': 'f1'}"
   ]
  },
  {
   "cell_type": "markdown",
   "metadata": {},
   "source": [
    "### 単純ベイズでやってみる"
   ]
  },
  {
   "cell_type": "code",
   "execution_count": 13,
   "metadata": {},
   "outputs": [
    {
     "name": "stdout",
     "output_type": "stream",
     "text": [
      "fit time:   [0.00953674 0.00993919 0.00957203 0.00536442 0.00531197]\n",
      "recall:     [0.95333333 0.96666667 0.99328859 0.96644295 0.98657718] 0.9732617449664429\n",
      "precision:  [0.92857143 0.96666667 0.94871795 0.97297297 0.99324324] 0.9620344520344519\n",
      "f1:         [0.94078947 0.96666667 0.9704918  0.96969697 0.98989899] 0.9675087806451049\n"
     ]
    }
   ],
   "source": [
    "from sklearn.naive_bayes import MultinomialNB\n",
    "\n",
    "mnb = MultinomialNB()\n",
    "result = cross_validate(\n",
    "    X=train_X,\n",
    "    y=train_y,\n",
    "    estimator=mnb,\n",
    "    scoring=cv_metrics,\n",
    "    cv=skf\n",
    ")\n",
    "print_score(result)"
   ]
  },
  {
   "cell_type": "markdown",
   "metadata": {},
   "source": [
    "### NBSvm"
   ]
  },
  {
   "cell_type": "code",
   "execution_count": 14,
   "metadata": {},
   "outputs": [],
   "source": [
    "from nbsvm import NbSvmClassifier"
   ]
  },
  {
   "cell_type": "code",
   "execution_count": 15,
   "metadata": {},
   "outputs": [],
   "source": [
    "nbsvm = NbSvmClassifier()"
   ]
  },
  {
   "cell_type": "code",
   "execution_count": 16,
   "metadata": {},
   "outputs": [
    {
     "name": "stdout",
     "output_type": "stream",
     "text": [
      "fit time:   [0.26386189 0.17120886 0.11504126 0.1214292  0.13589835]\n",
      "recall:     [0.96666667 0.94       0.97315436 0.98657718 0.95973154] 0.9652259507829978\n",
      "precision:  [0.9602649  0.9527027  0.97315436 0.96078431 0.90506329] 0.9503939141291585\n",
      "f1:         [0.96345515 0.94630872 0.97315436 0.97350993 0.93159609] 0.9576048523460059\n"
     ]
    }
   ],
   "source": [
    "result = cross_validate(\n",
    "    X=train_X,\n",
    "    y=train_y,\n",
    "    estimator=nbsvm,\n",
    "    scoring=cv_metrics,\n",
    "    cv=skf\n",
    ")\n",
    "print_score(result)"
   ]
  },
  {
   "cell_type": "code",
   "execution_count": 17,
   "metadata": {},
   "outputs": [
    {
     "name": "stderr",
     "output_type": "stream",
     "text": [
      "/home/nagomiso/.local/lib/python3.6/site-packages/sklearn/ensemble/weight_boosting.py:29: DeprecationWarning: numpy.core.umath_tests is an internal NumPy module and should not be imported. It will be removed in a future NumPy release.\n",
      "  from numpy.core.umath_tests import inner1d\n"
     ]
    }
   ],
   "source": [
    "from sklearn.model_selection import cross_val_score\n",
    "\n",
    "from skopt import gp_minimize\n",
    "from skopt.space import Categorical\n",
    "from skopt.space import Integer\n",
    "from skopt.space import Real\n",
    "from skopt.space import Space\n",
    "\n",
    "def objective(params):\n",
    "    C, dual = params\n",
    "    nbsvm.set_params(C=C, dual=dual)\n",
    "    return -np.mean(\n",
    "        cross_val_score(\n",
    "            estimator=nbsvm,\n",
    "            X=train_X,\n",
    "            y=train_y,\n",
    "            cv=skf,\n",
    "            scoring='f1'\n",
    "        ))"
   ]
  },
  {
   "cell_type": "code",
   "execution_count": 18,
   "metadata": {},
   "outputs": [],
   "source": [
    "space = Space(\n",
    "    [\n",
    "        Real(low=10**-5, high=10**5, prior='log-uniform', name='C'),\n",
    "        Categorical(categories=[True, False], name='dual')\n",
    "    ]\n",
    ")"
   ]
  },
  {
   "cell_type": "code",
   "execution_count": 19,
   "metadata": {},
   "outputs": [
    {
     "name": "stdout",
     "output_type": "stream",
     "text": [
      "[0.043328547181116804, True]\n"
     ]
    }
   ],
   "source": [
    "local_opt_params = gp_minimize(\n",
    "    func=objective, dimensions=space, n_calls=100, n_jobs=-1)\n",
    "print(local_opt_params.x)"
   ]
  },
  {
   "cell_type": "code",
   "execution_count": 20,
   "metadata": {},
   "outputs": [
    {
     "data": {
      "text/plain": [
       "-0.9659039791200043"
      ]
     },
     "execution_count": 20,
     "metadata": {},
     "output_type": "execute_result"
    }
   ],
   "source": [
    "local_opt_params.fun"
   ]
  },
  {
   "cell_type": "code",
   "execution_count": 21,
   "metadata": {},
   "outputs": [],
   "source": [
    "nbsvm = NbSvmClassifier(\n",
    "    C=0.12658588843758548, dual=True)"
   ]
  },
  {
   "cell_type": "code",
   "execution_count": 22,
   "metadata": {},
   "outputs": [
    {
     "data": {
      "text/plain": [
       "MultinomialNB(alpha=1.0, class_prior=None, fit_prior=True)"
      ]
     },
     "execution_count": 22,
     "metadata": {},
     "output_type": "execute_result"
    }
   ],
   "source": [
    "mnb.fit(X=train_X, y=train_y)"
   ]
  },
  {
   "cell_type": "code",
   "execution_count": 23,
   "metadata": {},
   "outputs": [],
   "source": [
    "test_mails = []\n",
    "for path in sorted(Path('.').glob('./test2/test_*.txt')):\n",
    "    with open(path, 'r') as f:\n",
    "        subject = subject_pattern.sub(\n",
    "            '', f.readline().strip()),\n",
    "        body = f.read()\n",
    "    test_mails.append(\n",
    "        {\n",
    "            'file_name': path.name,\n",
    "            'subject': subject[0],\n",
    "            'body': body\n",
    "        }\n",
    "    )\n",
    "test_datum = pd.DataFrame.from_dict(test_mails)"
   ]
  },
  {
   "cell_type": "code",
   "execution_count": 24,
   "metadata": {},
   "outputs": [],
   "source": [
    "body_features = body_vec.transform(test_datum.body.values)\n",
    "subject_features = subject_vec.transform(test_datum.body.values)\n",
    "\n",
    "test_X = hstack([body_features, subject_features], 'csr')"
   ]
  },
  {
   "cell_type": "code",
   "execution_count": 25,
   "metadata": {},
   "outputs": [],
   "source": [
    "predict_y = mnb.predict(test_X)"
   ]
  },
  {
   "cell_type": "code",
   "execution_count": 26,
   "metadata": {},
   "outputs": [],
   "source": [
    "submit_table = pd.concat(\n",
    "    [test_datum.file_name, pd.Series(predict_y).rename('predict')],\n",
    "    axis=1\n",
    ")"
   ]
  },
  {
   "cell_type": "code",
   "execution_count": 27,
   "metadata": {},
   "outputs": [
    {
     "data": {
      "text/html": [
       "<div>\n",
       "<style scoped>\n",
       "    .dataframe tbody tr th:only-of-type {\n",
       "        vertical-align: middle;\n",
       "    }\n",
       "\n",
       "    .dataframe tbody tr th {\n",
       "        vertical-align: top;\n",
       "    }\n",
       "\n",
       "    .dataframe thead th {\n",
       "        text-align: right;\n",
       "    }\n",
       "</style>\n",
       "<table border=\"1\" class=\"dataframe\">\n",
       "  <thead>\n",
       "    <tr style=\"text-align: right;\">\n",
       "      <th></th>\n",
       "      <th>file_name</th>\n",
       "      <th>predict</th>\n",
       "    </tr>\n",
       "  </thead>\n",
       "  <tbody>\n",
       "    <tr>\n",
       "      <th>0</th>\n",
       "      <td>test_0000.txt</td>\n",
       "      <td>1</td>\n",
       "    </tr>\n",
       "    <tr>\n",
       "      <th>1</th>\n",
       "      <td>test_0001.txt</td>\n",
       "      <td>0</td>\n",
       "    </tr>\n",
       "    <tr>\n",
       "      <th>2</th>\n",
       "      <td>test_0002.txt</td>\n",
       "      <td>1</td>\n",
       "    </tr>\n",
       "    <tr>\n",
       "      <th>3</th>\n",
       "      <td>test_0003.txt</td>\n",
       "      <td>0</td>\n",
       "    </tr>\n",
       "    <tr>\n",
       "      <th>4</th>\n",
       "      <td>test_0004.txt</td>\n",
       "      <td>0</td>\n",
       "    </tr>\n",
       "  </tbody>\n",
       "</table>\n",
       "</div>"
      ],
      "text/plain": [
       "       file_name  predict\n",
       "0  test_0000.txt        1\n",
       "1  test_0001.txt        0\n",
       "2  test_0002.txt        1\n",
       "3  test_0003.txt        0\n",
       "4  test_0004.txt        0"
      ]
     },
     "execution_count": 27,
     "metadata": {},
     "output_type": "execute_result"
    }
   ],
   "source": [
    "submit_table.head()"
   ]
  },
  {
   "cell_type": "code",
   "execution_count": 28,
   "metadata": {},
   "outputs": [],
   "source": [
    "submit_table.to_csv('submit.csv', index=False, header=False)"
   ]
  },
  {
   "cell_type": "markdown",
   "metadata": {},
   "source": [
    "### LightGBM を使ってみる"
   ]
  },
  {
   "cell_type": "code",
   "execution_count": 14,
   "metadata": {},
   "outputs": [],
   "source": [
    "from lightgbm import LGBMClassifier"
   ]
  },
  {
   "cell_type": "code",
   "execution_count": 15,
   "metadata": {},
   "outputs": [],
   "source": [
    "lgbmc = LGBMClassifier(n_jobs=-1)\n",
    "\n",
    "def objective_lgbmc(params):\n",
    "    n_estimators, learning_rate, num_leaves, \\\n",
    "    colsample_bytree, subsample, max_depth, reg_alpha, \\\n",
    "    reg_lambda, min_split_gain, min_child_weight = params\n",
    "    \n",
    "    lgbmc.set_params(\n",
    "        n_estimators=n_estimators,\n",
    "        learning_rate=learning_rate,\n",
    "        num_leaves=num_leaves,\n",
    "        colsample_bytree=colsample_bytree,\n",
    "        subsample=subsample,\n",
    "        max_depth=max_depth,\n",
    "        reg_alpha=reg_alpha,\n",
    "        reg_lambda=reg_lambda,\n",
    "        min_split_gain=min_split_gain,\n",
    "        min_child_weight=min_child_weight,\n",
    "    )\n",
    "    return -np.mean(\n",
    "        cross_val_score(\n",
    "            estimator=lgbmc,\n",
    "            X=train_X.astype(np.float32),\n",
    "            y=train_y,\n",
    "            cv=skf,\n",
    "            scoring='f1'\n",
    "        ))"
   ]
  },
  {
   "cell_type": "code",
   "execution_count": 31,
   "metadata": {},
   "outputs": [],
   "source": [
    "space = Space(\n",
    "    [\n",
    "        Integer(low=100, high=5000),\n",
    "        Real(low=10**-5, high=10**5, prior='log-uniform'),\n",
    "        Integer(low=10, high=500),\n",
    "        Real(low=10**-5, high=10**0, prior='log-uniform'),\n",
    "        Real(low=10**-5, high=10**0, prior='log-uniform'),\n",
    "        Integer(low=3, high=50),\n",
    "        Real(low=10**-5, high=10**1, prior='log-uniform'),\n",
    "        Real(low=10**-5, high=10**1, prior='log-uniform'),\n",
    "        Real(low=10**-5, high=10**1, prior='log-uniform'),\n",
    "        Real(low=10**-5, high=10**3, prior='log-uniform'),\n",
    "    ]\n",
    ")\n",
    "\n",
    "x0 = [\n",
    "    10000, 0.02, 34, 0.94, 0.87, 8,\n",
    "    0.0412, 0.073, 0.02, 39.0\n",
    "]"
   ]
  },
  {
   "cell_type": "code",
   "execution_count": 33,
   "metadata": {},
   "outputs": [
    {
     "name": "stdout",
     "output_type": "stream",
     "text": [
      "[100, 100000.0, 375, 1.0, 0.04359337870787355, 24, 1e-05, 10.0, 0.0014360946758322727, 0.0003135254916689524]\n"
     ]
    }
   ],
   "source": [
    "import warnings\n",
    "warnings.filterwarnings('ignore')\n",
    "\n",
    "lgbmc_params = gp_minimize(\n",
    "    func=objective_lgbmc, dimensions=space, n_calls=100, n_jobs=-1)\n",
    "print(lgbmc_params.x)"
   ]
  },
  {
   "cell_type": "code",
   "execution_count": 20,
   "metadata": {},
   "outputs": [
    {
     "name": "stdout",
     "output_type": "stream",
     "text": [
      "fit time:   [0.23914623 0.18578434 0.19642329 0.18406606 0.19972396]\n",
      "recall:     [0.85333333 0.89333333 0.87919463 0.87248322 0.90604027] 0.8808769574944071\n",
      "precision:  [0.73142857 0.71657754 0.71195652 0.72222222 0.72972973] 0.7223829170453212\n",
      "f1:         [0.78769231 0.79525223 0.78678679 0.79027356 0.80838323] 0.7936776219524639\n"
     ]
    }
   ],
   "source": [
    "import warnings\n",
    "warnings.filterwarnings('ignore')\n",
    "\n",
    "lgbmc.set_params(\n",
    "    n_estimators=100,\n",
    "    learning_rate=100000.0,\n",
    "    num_leaves=375,\n",
    "    colsample_bytree=1.0,\n",
    "    subsample=0.04359337870787355,\n",
    "    max_depth=24,\n",
    "    reg_alpha=1e-05,\n",
    "    reg_lambda=10,\n",
    "    min_split_gain=0.0014360946758322727,\n",
    "    min_child_weight=0.0003135254916689524,\n",
    ")\n",
    "\n",
    "result = cross_validate(\n",
    "    X=train_X.astype(np.float32),\n",
    "    y=train_y,\n",
    "    estimator=lgbmc,\n",
    "    scoring=cv_metrics,\n",
    "    cv=skf\n",
    ")\n",
    "print_score(result)"
   ]
  },
  {
   "cell_type": "code",
   "execution_count": null,
   "metadata": {},
   "outputs": [],
   "source": []
  }
 ],
 "metadata": {
  "kernelspec": {
   "display_name": "Python 3",
   "language": "python",
   "name": "python3"
  },
  "language_info": {
   "codemirror_mode": {
    "name": "ipython",
    "version": 3
   },
   "file_extension": ".py",
   "mimetype": "text/x-python",
   "name": "python",
   "nbconvert_exporter": "python",
   "pygments_lexer": "ipython3",
   "version": "3.6.5"
  }
 },
 "nbformat": 4,
 "nbformat_minor": 2
}
