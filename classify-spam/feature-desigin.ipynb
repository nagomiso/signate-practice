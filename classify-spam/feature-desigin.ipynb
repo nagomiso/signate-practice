{
 "cells": [
  {
   "cell_type": "code",
   "execution_count": 1,
   "metadata": {},
   "outputs": [],
   "source": [
    "from pathlib import Path\n",
    "import re\n",
    "import warnings\n",
    "\n",
    "import numpy as np\n",
    "\n",
    "with warnings.catch_warnings():\n",
    "    warnings.simplefilter('ignore')\n",
    "    import pandas as pd\n",
    "    \n",
    "    from scipy import sparse\n",
    "    \n",
    "    from sklearn.feature_extraction.text import CountVectorizer\n",
    "    from sklearn.model_selection import StratifiedKFold, cross_validate\n",
    "    from sklearn.naive_bayes import MultinomialNB\n",
    "    from sklearn.preprocessing import LabelBinarizer\n",
    "\n",
    "import mailparse\n",
    "\n",
    "np.random.seed(42)"
   ]
  },
  {
   "cell_type": "code",
   "execution_count": 2,
   "metadata": {},
   "outputs": [],
   "source": [
    "def print_score(cv_result):\n",
    "    \"\"\"スコア表示.\"\"\"\n",
    "    print('fit time:  ', cv_result['fit_time'])\n",
    "    print('recall:    ', cv_result['test_r'], np.mean(cv_result['test_r']))\n",
    "    print('precision: ', cv_result['test_p'], np.mean(cv_result['test_p']))\n",
    "    print('f1:        ', cv_result['test_f'], np.mean(cv_result['test_f']))\n",
    "\n",
    "\n",
    "def load_mails(data_type):\n",
    "    \"\"\"mailを読み込む.\"\"\"\n",
    "    mails = []\n",
    "    for path in sorted(Path('.').glob('./{0}2/{0}_*.txt'.format(data_type))):\n",
    "        with open(path, 'r') as f:\n",
    "            mail = mailparse.parse(f.readlines())\n",
    "            mail['file_name'] = path.name\n",
    "        mails.append(mail)\n",
    "    return mails"
   ]
  },
  {
   "cell_type": "code",
   "execution_count": 3,
   "metadata": {},
   "outputs": [],
   "source": [
    "body_vec = CountVectorizer(\n",
    "    stop_words='english',\n",
    ")\n",
    "\n",
    "subject_vec = CountVectorizer(\n",
    "    stop_words='english',\n",
    ")\n",
    "\n",
    "attachment_vec = LabelBinarizer()"
   ]
  },
  {
   "cell_type": "code",
   "execution_count": 4,
   "metadata": {},
   "outputs": [],
   "source": [
    "skf = StratifiedKFold(n_splits=5, shuffle=True)\n",
    "cv_metrics = {'p': 'precision', 'r': 'recall', 'f': 'f1'}"
   ]
  },
  {
   "cell_type": "code",
   "execution_count": 5,
   "metadata": {},
   "outputs": [],
   "source": [
    "train_master = pd.read_table('train_master.tsv')\n",
    "train_datum = pd.merge(\n",
    "    train_master,\n",
    "    pd.DataFrame.from_dict(load_mails('train')),\n",
    "    on='file_name',\n",
    "    how='left'\n",
    ")"
   ]
  },
  {
   "cell_type": "code",
   "execution_count": 6,
   "metadata": {},
   "outputs": [
    {
     "data": {
      "text/html": [
       "<div>\n",
       "<style scoped>\n",
       "    .dataframe tbody tr th:only-of-type {\n",
       "        vertical-align: middle;\n",
       "    }\n",
       "\n",
       "    .dataframe tbody tr th {\n",
       "        vertical-align: top;\n",
       "    }\n",
       "\n",
       "    .dataframe thead th {\n",
       "        text-align: right;\n",
       "    }\n",
       "</style>\n",
       "<table border=\"1\" class=\"dataframe\">\n",
       "  <thead>\n",
       "    <tr style=\"text-align: right;\">\n",
       "      <th></th>\n",
       "      <th>file_name</th>\n",
       "      <th>label</th>\n",
       "      <th>attachment_ext</th>\n",
       "      <th>body</th>\n",
       "      <th>body_length</th>\n",
       "      <th>subject</th>\n",
       "      <th>subject_length</th>\n",
       "    </tr>\n",
       "  </thead>\n",
       "  <tbody>\n",
       "    <tr>\n",
       "      <th>0</th>\n",
       "      <td>train_0000.txt</td>\n",
       "      <td>0</td>\n",
       "      <td>no attachment</td>\n",
       "      <td>the equistar deal 156337 is the sale and swing...</td>\n",
       "      <td>199</td>\n",
       "      <td>re : buyback / deficiency deals worksheet\\n</td>\n",
       "      <td>7</td>\n",
       "    </tr>\n",
       "    <tr>\n",
       "      <th>1</th>\n",
       "      <td>train_0001.txt</td>\n",
       "      <td>0</td>\n",
       "      <td>exe</td>\n",
       "      <td>- - - - - original message - - - - -\\nfrom : a...</td>\n",
       "      <td>129</td>\n",
       "      <td>fw : stress relief\\n</td>\n",
       "      <td>4</td>\n",
       "    </tr>\n",
       "    <tr>\n",
       "      <th>2</th>\n",
       "      <td>train_0002.txt</td>\n",
       "      <td>1</td>\n",
       "      <td>no attachment</td>\n",
       "      <td>dear friend ,\\nplease don ' t be surprised to ...</td>\n",
       "      <td>533</td>\n",
       "      <td>from mrs . juliana\\n</td>\n",
       "      <td>4</td>\n",
       "    </tr>\n",
       "    <tr>\n",
       "      <th>3</th>\n",
       "      <td>train_0003.txt</td>\n",
       "      <td>1</td>\n",
       "      <td>no attachment</td>\n",
       "      <td>our offer :\\nwindows xp pro office xp professi...</td>\n",
       "      <td>96</td>\n",
       "      <td>[ wrenches ] 68 % off dreamweaver mx 2004 flie...</td>\n",
       "      <td>11</td>\n",
       "    </tr>\n",
       "    <tr>\n",
       "      <th>4</th>\n",
       "      <td>train_0004.txt</td>\n",
       "      <td>0</td>\n",
       "      <td>no attachment</td>\n",
       "      <td>name home pager\\ngeorge grant 281 - 282 - 9084...</td>\n",
       "      <td>123</td>\n",
       "      <td>y 2 k - texas log\\n</td>\n",
       "      <td>6</td>\n",
       "    </tr>\n",
       "  </tbody>\n",
       "</table>\n",
       "</div>"
      ],
      "text/plain": [
       "        file_name  label attachment_ext  \\\n",
       "0  train_0000.txt      0  no attachment   \n",
       "1  train_0001.txt      0            exe   \n",
       "2  train_0002.txt      1  no attachment   \n",
       "3  train_0003.txt      1  no attachment   \n",
       "4  train_0004.txt      0  no attachment   \n",
       "\n",
       "                                                body  body_length  \\\n",
       "0  the equistar deal 156337 is the sale and swing...          199   \n",
       "1  - - - - - original message - - - - -\\nfrom : a...          129   \n",
       "2  dear friend ,\\nplease don ' t be surprised to ...          533   \n",
       "3  our offer :\\nwindows xp pro office xp professi...           96   \n",
       "4  name home pager\\ngeorge grant 281 - 282 - 9084...          123   \n",
       "\n",
       "                                             subject  subject_length  \n",
       "0        re : buyback / deficiency deals worksheet\\n               7  \n",
       "1                               fw : stress relief\\n               4  \n",
       "2                               from mrs . juliana\\n               4  \n",
       "3  [ wrenches ] 68 % off dreamweaver mx 2004 flie...              11  \n",
       "4                                y 2 k - texas log\\n               6  "
      ]
     },
     "execution_count": 6,
     "metadata": {},
     "output_type": "execute_result"
    }
   ],
   "source": [
    "train_datum.head()"
   ]
  },
  {
   "cell_type": "code",
   "execution_count": 6,
   "metadata": {},
   "outputs": [],
   "source": [
    "body_features = body_vec.fit_transform(train_datum.body.values)\n",
    "body_length = train_datum.body_length.values.reshape(-1, 1)\n",
    "\n",
    "subject_features = subject_vec.fit_transform(train_datum.subject.values)\n",
    "subject_length = train_datum.subject_length.values.reshape(-1, 1)\n",
    "\n",
    "attachment_ext_features = attachment_vec.fit_transform(train_datum.attachment_ext.values)\n",
    "\n",
    "\n",
    "train_X = sparse.hstack(\n",
    "    (\n",
    "        body_features,\n",
    "        subject_features,\n",
    "        body_length,\n",
    "        subject_length,\n",
    "        attachment_ext_features,\n",
    "    ), 'csr')\n",
    "train_y = train_datum.label.values"
   ]
  },
  {
   "cell_type": "markdown",
   "metadata": {},
   "source": [
    "### そのまま単純ベイズ(一番良さそう)"
   ]
  },
  {
   "cell_type": "code",
   "execution_count": 7,
   "metadata": {},
   "outputs": [],
   "source": [
    "mnb = MultinomialNB()"
   ]
  },
  {
   "cell_type": "code",
   "execution_count": 9,
   "metadata": {},
   "outputs": [
    {
     "name": "stdout",
     "output_type": "stream",
     "text": [
      "fit time:   [0.03351665 0.01115704 0.01160693 0.00970101 0.0108645 ]\n",
      "recall:     [0.96666667 0.95333333 0.97315436 0.95973154 0.95973154] 0.962523489932886\n",
      "precision:  [0.96666667 0.97278912 0.97315436 0.9862069  0.99305556] 0.9783745193672624\n",
      "f1:         [0.96666667 0.96296296 0.97315436 0.97278912 0.97610922] 0.9703364645418121\n"
     ]
    }
   ],
   "source": [
    "result = cross_validate(\n",
    "    X=train_X,\n",
    "    y=train_y,\n",
    "    estimator=mnb,\n",
    "    scoring=cv_metrics,\n",
    "    cv=skf\n",
    ")\n",
    "print_score(result)"
   ]
  },
  {
   "cell_type": "markdown",
   "metadata": {},
   "source": [
    "### パラメータ最適化"
   ]
  },
  {
   "cell_type": "code",
   "execution_count": 10,
   "metadata": {},
   "outputs": [],
   "source": [
    "from sklearn.model_selection import cross_val_score\n",
    "\n",
    "from skopt import gp_minimize\n",
    "from skopt.space import Categorical\n",
    "from skopt.space import Real\n",
    "from skopt.space import Space\n",
    "\n",
    "def objective(params):\n",
    "    alpha, fit_prior = params\n",
    "    mnb.set_params(alpha=alpha, fit_prior=fit_prior)\n",
    "    return -np.mean(\n",
    "        cross_val_score(\n",
    "            estimator=mnb,\n",
    "            X=train_X,\n",
    "            y=train_y,\n",
    "            cv=skf,\n",
    "            scoring='f1'\n",
    "        ))"
   ]
  },
  {
   "cell_type": "code",
   "execution_count": 11,
   "metadata": {},
   "outputs": [
    {
     "name": "stdout",
     "output_type": "stream",
     "text": [
      "[0.06174894983917462, False]\n"
     ]
    }
   ],
   "source": [
    "space = Space(\n",
    "    [\n",
    "        Real(low=10**-5, high=10**5, prior='log-uniform', name='alpha'),\n",
    "        Categorical(categories=[True, False], name='fit_prior')\n",
    "    ]\n",
    ")\n",
    "import warnings\n",
    "with warnings.catch_warnings():\n",
    "    warnings.simplefilter('ignore')\n",
    "    local_opt_params = gp_minimize(\n",
    "        func=objective, dimensions=space, n_calls=100, n_jobs=-1)\n",
    "print(local_opt_params.x)"
   ]
  },
  {
   "cell_type": "code",
   "execution_count": 12,
   "metadata": {},
   "outputs": [
    {
     "name": "stdout",
     "output_type": "stream",
     "text": [
      "-0.9802887842939411\n"
     ]
    }
   ],
   "source": [
    "print(local_opt_params.fun)"
   ]
  },
  {
   "cell_type": "code",
   "execution_count": 8,
   "metadata": {},
   "outputs": [
    {
     "data": {
      "text/plain": [
       "MultinomialNB(alpha=0.06174894983917462, class_prior=None, fit_prior=False)"
      ]
     },
     "execution_count": 8,
     "metadata": {},
     "output_type": "execute_result"
    }
   ],
   "source": [
    "mnb.set_params(alpha=0.06174894983917462, fit_prior=False)"
   ]
  },
  {
   "cell_type": "code",
   "execution_count": 14,
   "metadata": {},
   "outputs": [
    {
     "name": "stdout",
     "output_type": "stream",
     "text": [
      "fit time:   [0.03855538 0.01277256 0.012007   0.01228666 0.0089612 ]\n",
      "recall:     [0.99333333 1.         0.99328859 1.         0.99328859] 0.9959821029082774\n",
      "precision:  [0.94904459 0.96774194 0.96732026 0.94904459 0.97368421] 0.9613671158845236\n",
      "f1:         [0.97068404 0.98360656 0.98013245 0.97385621 0.9833887 ] 0.9783335920530772\n"
     ]
    }
   ],
   "source": [
    "result = cross_validate(\n",
    "    X=train_X,\n",
    "    y=train_y,\n",
    "    estimator=mnb,\n",
    "    scoring=cv_metrics,\n",
    "    cv=skf\n",
    ")\n",
    "print_score(result)"
   ]
  },
  {
   "cell_type": "code",
   "execution_count": 9,
   "metadata": {},
   "outputs": [
    {
     "data": {
      "text/plain": [
       "MultinomialNB(alpha=0.06174894983917462, class_prior=None, fit_prior=False)"
      ]
     },
     "execution_count": 9,
     "metadata": {},
     "output_type": "execute_result"
    }
   ],
   "source": [
    "mnb.fit(X=train_X, y=train_y)"
   ]
  },
  {
   "cell_type": "code",
   "execution_count": 10,
   "metadata": {},
   "outputs": [],
   "source": [
    "test_datum = pd.DataFrame.from_dict(load_mails('test'))"
   ]
  },
  {
   "cell_type": "code",
   "execution_count": 11,
   "metadata": {},
   "outputs": [],
   "source": [
    "test_body_features = body_vec.transform(test_datum.body.values)\n",
    "test_body_length = test_datum.body_length.values.reshape(-1, 1)\n",
    "\n",
    "test_subject_features = subject_vec.transform(test_datum.subject.values)\n",
    "test_subject_length = test_datum.subject_length.values.reshape(-1, 1)\n",
    "\n",
    "test_attachment_ext_features = attachment_vec.transform(test_datum.attachment_ext.values)\n",
    "\n",
    "test_X = sparse.hstack(\n",
    "    (\n",
    "        test_body_features,\n",
    "        test_subject_features,\n",
    "        test_body_length,\n",
    "        test_subject_length,\n",
    "        test_attachment_ext_features,\n",
    "    ), 'csr')"
   ]
  },
  {
   "cell_type": "code",
   "execution_count": 12,
   "metadata": {},
   "outputs": [],
   "source": [
    "predict_y = mnb.predict(test_X)"
   ]
  },
  {
   "cell_type": "code",
   "execution_count": 13,
   "metadata": {},
   "outputs": [],
   "source": [
    "submit_table = pd.concat(\n",
    "    [test_datum.file_name, pd.Series(predict_y).rename('predict')],\n",
    "    axis=1\n",
    ")\n",
    "submit_table.to_csv('submit.csv', index=False, header=False)"
   ]
  },
  {
   "cell_type": "markdown",
   "metadata": {},
   "source": [
    "### まとめ\n",
    "\n",
    "#### 特徴量\n",
    "\n",
    "以下を結合した特徴ベクトルを使用した。\n",
    "\n",
    "- 件名（BoW）\n",
    "- 本文（BoW）\n",
    "- 件名長（単語数）\n",
    "- 本文長（単語数）\n",
    "- 添付ファイル拡張子（one-hot）\n",
    "\n",
    "今回のタスクにおいては n-gram 表現は精度向上に寄与しなかった。\n",
    "\n",
    "#### 前処理\n",
    "\n",
    "stopword による不要語除去のみ行った。\n",
    "以下を試みたが精度向上は見られなかった。\n",
    "\n",
    "- 数値表現のシンボル化\n",
    "- 特徴選択（ロジスティクス回帰, RandomForest）\n",
    "- SVDによる次元圧縮\n",
    "\n",
    "#### 学習アルゴリズム\n",
    "\n",
    "多項モデル単純ベイズ分類器による分類が一番高い精度を見せた。\n",
    "NBSVM, SVM, RandomForest, LightGBMに依る分類も試みたが思ったとおりの精度が出なかった。\n",
    "（もしかしたら特徴量の標準化を行えば精度が出たかも知れない）"
   ]
  },
  {
   "cell_type": "code",
   "execution_count": null,
   "metadata": {},
   "outputs": [],
   "source": []
  }
 ],
 "metadata": {
  "kernelspec": {
   "display_name": "Python 3",
   "language": "python",
   "name": "python3"
  },
  "language_info": {
   "codemirror_mode": {
    "name": "ipython",
    "version": 3
   },
   "file_extension": ".py",
   "mimetype": "text/x-python",
   "name": "python",
   "nbconvert_exporter": "python",
   "pygments_lexer": "ipython3",
   "version": "3.6.5"
  }
 },
 "nbformat": 4,
 "nbformat_minor": 2
}
